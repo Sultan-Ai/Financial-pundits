{
 "cells": [
  {
   "cell_type": "markdown",
   "id": "41522184-9f10-4bd9-a511-137612defd7e",
   "metadata": {
    "jp-MarkdownHeadingCollapsed": true,
    "tags": []
   },
   "source": [
    "# Readme"
   ]
  },
  {
   "cell_type": "markdown",
   "id": "47f67451-8d75-47e9-83ad-29e3d14c2467",
   "metadata": {},
   "source": [
    "This notebook is designed to transcribe interviews from YouTube that are focused on investing and trading. The resulting transcripts are then subject to further analysis. In order to obtain the data from YouTube, I explored several methods, including using a wrapper for the YouTube API found at https://github.com/sns-sdks/python-youtube, as well as employing BeautifulSoup. However, I have determined that the most effective approach for obtaining both transcripts and comments is to utilize the relevant GitHub repositories."
   ]
  },
  {
   "cell_type": "raw",
   "id": "a20fe4cf-c4fe-45b8-89af-d9194a3fd825",
   "metadata": {},
   "source": [
    "pip install youtube-comment-downloader\n",
    "pip install youtube-transcript-api"
   ]
  },
  {
   "cell_type": "markdown",
   "id": "5cb94375-94a6-44a4-adcf-bcdc69c5e39f",
   "metadata": {},
   "source": [
    "# Webscrapping a single video"
   ]
  },
  {
   "cell_type": "markdown",
   "id": "fa58da48-c7e8-4a29-b44c-8519e1d9e920",
   "metadata": {},
   "source": [
    "In order to improve my investment decision-making, I have found the Wealthion channel to be particularly helpful, though everything mentioned below can be applied to any existing youtube video. As such, I have decided to undertake a more thorough evaluation of the channel's videos by employing various natural language processing (NLP) tools. To accomplish this, I will be using auto-generated transcripts to gain a deeper understanding of the interviews, as well as analyzing comments to ascertain sentiment and gather valuable insights. This section of the notebook will demonstrate the diverse range of tools that can be utilized for this purpose."
   ]
  },
  {
   "cell_type": "markdown",
   "id": "eb14ef6f-60d9-401f-a60c-8af914ab3831",
   "metadata": {},
   "source": [
    "## BeautifulSoup"
   ]
  },
  {
   "cell_type": "code",
   "execution_count": null,
   "id": "7f24694e-95a8-4bf0-a735-e073b9791513",
   "metadata": {},
   "outputs": [],
   "source": []
  },
  {
   "cell_type": "code",
   "execution_count": 123,
   "id": "3adfac68-0727-46f7-9af5-bf5c984f5314",
   "metadata": {},
   "outputs": [
    {
     "name": "stdout",
     "output_type": "stream",
     "text": [
      "<Response [200]>\n"
     ]
    }
   ],
   "source": [
    "import requests\n",
    "from bs4 import BeautifulSoup\n",
    "\n",
    "# Set the URL of the Indeed search results page for your query\n",
    "url = \"https://www.youtube.com/watch?v=ixm0RKhTLh8\"\n",
    "\n",
    "# Send a GET request to the URL and get the response\n",
    "response = requests.get(url)\n",
    "\n",
    "print(response)"
   ]
  },
  {
   "cell_type": "code",
   "execution_count": 139,
   "id": "9482b224-6a29-4132-afcc-30ddf0b6537d",
   "metadata": {},
   "outputs": [],
   "source": [
    "# Use BeautifulSoup to parse the HTML content of the response\n",
    "soup = BeautifulSoup(response.content, \"html.parser\")\n",
    "\n",
    "# print(soup.prettify())"
   ]
  },
  {
   "cell_type": "markdown",
   "id": "00495aba-2daa-46b8-826c-917a558dc3ed",
   "metadata": {},
   "source": [
    "## youtube_comment_downloader"
   ]
  },
  {
   "cell_type": "code",
   "execution_count": 136,
   "id": "30f8177e-97e2-4fc0-9fb7-9e7b1218fe61",
   "metadata": {},
   "outputs": [
    {
     "name": "stdout",
     "output_type": "stream",
     "text": [
      "I watch Adam's interviews every week. This was the least informative one to point that I just stopped listening. Bill Fleckenstien's insights could best be described in a few often repeated phrases such 'Maybe', \"That's possible\" \"I'm not sure\" etc. I can't figure out why he allowed himself to be interviewed if he was so adamant about making sure he said almost nothing and shared almost nothing with the audience. Bill refused to give anything. It was like watching a boxing match where the strategy was just hang in there until the last round without giving anything up. It was a waste of time.\n",
      "What a fantastic interview!!\n",
      "Thanks for having Bill on, he's brilliant!!\n",
      "I'm finally starting to understand bonds\n",
      "I recently made more purchases. Saving money for a market downturn is likewise a bad idea. There are numerous ways to look at recessions and depressions, we cannot always expect to make large returns, and taking chances is better than doing nothing. The bottom line is that you will achieve remarkable results by diversifying your portfolio and making wise decisions. My portfolio's raw earnings rose by $608k in just 5 months.\n",
      "Thank you.  Really enjoy your videos.  Always excellent guests.\n",
      "Many firms are cutting back or suspending matching contributions. Add coming layoffs and the passive outflows could become a real thing.\n",
      "Unfortunately, the loss of trust in currency management leads to real asset bubbles, especially in real estate. But the Fed really wants to restrain housing markets or risk political disruption.\n",
      "I have followed Fleckenstein for a long time off and on.  He has always been a straight shooter and I believe he does not manipulate what he is saying for his own purposes.  Adam you probed the discussion expertly, thanks.\n",
      "As the baby boom generation retires, don't retirement flows have to reverse, implying a lot of downward pressure on markets?\n",
      "I would love to see a video about paper gold and if it’s worth it or not\n",
      "Hi Adam and Bill. I listened to the episode on Apple Podcasts. Really love Bill. Great Bloke!\n"
     ]
    }
   ],
   "source": [
    "from itertools import islice\n",
    "from youtube_comment_downloader import *\n",
    "downloader = YoutubeCommentDownloader()\n",
    "comments = downloader.get_comments_from_url('https://www.youtube.com/watch?v=ixm0RKhTLh8', sort_by=SORT_BY_POPULAR)\n",
    "for comment in islice(comments, 10):\n",
    "    print(comment[\"text\"])"
   ]
  },
  {
   "cell_type": "markdown",
   "id": "c99b6e93-28a8-4e4f-a843-7c65e49e77a5",
   "metadata": {},
   "source": [
    "## youtube_transcript_api"
   ]
  },
  {
   "cell_type": "code",
   "execution_count": 137,
   "id": "08529716-7eea-47d7-bfe4-1bb8323a7b46",
   "metadata": {},
   "outputs": [],
   "source": [
    "from youtube_transcript_api import YouTubeTranscriptApi\n",
    "\n",
    "video_id = \"ixm0RKhTLh8\"\n",
    "YouTubeTranscriptApi.get_transcript(video_id);"
   ]
  },
  {
   "cell_type": "code",
   "execution_count": 125,
   "id": "820844a4-2cda-4217-acf4-d2b42c31b83e",
   "metadata": {},
   "outputs": [],
   "source": [
    "listings"
   ]
  },
  {
   "cell_type": "code",
   "execution_count": null,
   "id": "b9ac908b-f102-4ef9-afb4-576d9287658c",
   "metadata": {},
   "outputs": [],
   "source": []
  }
 ],
 "metadata": {
  "kernelspec": {
   "display_name": "Python 3 (ipykernel)",
   "language": "python",
   "name": "python3"
  },
  "language_info": {
   "codemirror_mode": {
    "name": "ipython",
    "version": 3
   },
   "file_extension": ".py",
   "mimetype": "text/x-python",
   "name": "python",
   "nbconvert_exporter": "python",
   "pygments_lexer": "ipython3",
   "version": "3.9.13"
  }
 },
 "nbformat": 4,
 "nbformat_minor": 5
}
